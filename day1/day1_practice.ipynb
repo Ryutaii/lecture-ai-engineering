{
  "cells": [
    {
      "cell_type": "code",
      "execution_count": 25,
      "metadata": {
        "id": "bvEowFfg5lrq"
      },
      "outputs": [
        {
          "name": "stdout",
          "output_type": "stream",
          "text": [
            "Requirement already satisfied: python-dotenv in c:\\users\\yutai\\anaconda3\\lib\\site-packages (0.21.0)\n",
            "C:\\Users\\yutai\\Downloads\\study\\lecture-ai-engineering\\day1\n"
          ]
        },
        {
          "data": {
            "text/plain": [
              "True"
            ]
          },
          "execution_count": 25,
          "metadata": {},
          "output_type": "execute_result"
        }
      ],
      "source": [
        "!pip install python-dotenv\n",
        "from dotenv import load_dotenv, find_dotenv\n",
        "\n",
        "%cd C:\\Users\\yutai\\Downloads\\study\\lecture-ai-engineering/day1\n",
        "load_dotenv(find_dotenv())"
      ]
    },
    {
      "cell_type": "code",
      "execution_count": null,
      "metadata": {},
      "outputs": [],
      "source": [
        "import os\n",
        "print(os.getenv(\"HUGGINGFACE_TOKEN\"))  # トークンが見えてくればOK"
      ]
    },
    {
      "cell_type": "code",
      "execution_count": 27,
      "metadata": {
        "id": "S28XgOm0ELSM"
      },
      "outputs": [
        {
          "name": "stdout",
          "output_type": "stream",
          "text": [
            "C:\\Users\\yutai\\Downloads\\study\\lecture-ai-engineering\\day1\\01_streamlit_UI\n"
          ]
        }
      ],
      "source": [
        "%cd C:\\Users\\yutai\\Downloads\\study\\lecture-ai-engineering/day1/01_streamlit_UI"
      ]
    },
    {
      "cell_type": "code",
      "execution_count": 28,
      "metadata": {
        "id": "nBe41LFiELSN"
      },
      "outputs": [],
      "source": [
        "%%capture\n",
        "!pip install -r requirements.txt"
      ]
    },
    {
      "cell_type": "code",
      "execution_count": 29,
      "metadata": {},
      "outputs": [
        {
          "name": "stdout",
          "output_type": "stream",
          "text": [
            "公開 URL 👉 https://20c4-133-31-219-69.ngrok-free.app\n",
            "^C\n"
          ]
        }
      ],
      "source": [
        "import os\n",
        "from dotenv import load_dotenv, find_dotenv\n",
        "from pyngrok import ngrok\n",
        "\n",
        "# .env をロードして環境変数にセット\n",
        "load_dotenv(find_dotenv())\n",
        "\n",
        "# 1) ngrok 認証トークンを Python でセット\n",
        "token = os.getenv(\"NGROK_TOKEN\")\n",
        "if not token:\n",
        "    raise RuntimeError(\"NGROK_TOKEN が読み込めませんでした\")\n",
        "ngrok.set_auth_token(token)\n",
        "\n",
        "# 2) ngrok トンネルを開く\n",
        "public_url = ngrok.connect(8501).public_url\n",
        "print(\"公開 URL 👉\", public_url)\n",
        "\n",
        "!streamlit run app.py \n",
        "# すいません、jupyter上で実行すると上手くいかないです。\n",
        "# 以下の手順にしたがってもらえると、実行できると思います。(__)\n",
        "\n",
        "## 環境構築と実行手順\n",
        "# 1. **WSL Ubuntu-22.04 ターミナルを開く**  \n",
        "#    VS Code のターミナルなら「Ubuntu-22.04 (WSL)」を選択します。\n",
        "\n",
        "# (base) yuta@CUxA:/mnt/c/Users/yutai/Downloads/study$ conda activate lecture-day1\n",
        "\n",
        "# (lecture-day1) yuta@CUxA:/mnt/c/Users/yutai/Downloads/study$ cd lecture-ai-engineering\n",
        "\n",
        "# (lecture-day1) yuta@CUxA:/mnt/c/Users/yutai/Downloads/study/lecture-ai-engineering$ cd day1\n",
        "\n",
        "# (lecture-day1) yuta@CUxA:/mnt/c/Users/yutai/Downloads/study/lecture-ai-engineering/day1$ cd 01_streamlit_UI\n",
        "\n",
        "# (lecture-day1) yuta@CUxA:/mnt/c/Users/yutai/Downloads/study/lecture-ai-engineering/day1/01_streamlit_UI$ streamlit run app.py\n"
      ]
    },
    {
      "cell_type": "code",
      "execution_count": 30,
      "metadata": {
        "id": "8Ek9QgahELSO"
      },
      "outputs": [],
      "source": [
        "from pyngrok import ngrok\n",
        "ngrok.kill()"
      ]
    },
    {
      "cell_type": "code",
      "execution_count": 17,
      "metadata": {
        "id": "UeEjlJ7uELSO"
      },
      "outputs": [
        {
          "name": "stdout",
          "output_type": "stream",
          "text": [
            "C:\\Users\\yutai\\Downloads\\study\\lecture-ai-engineering\\day1\\02_streamlit_app\n"
          ]
        }
      ],
      "source": [
        "%cd C:\\Users\\yutai\\Downloads\\study\\lecture-ai-engineering/day1/02_streamlit_app"
      ]
    },
    {
      "cell_type": "code",
      "execution_count": 18,
      "metadata": {
        "id": "W184-a7qFP0W"
      },
      "outputs": [],
      "source": [
        "# .streamlit/secrets.toml ファイルを作成\n",
        "import os\n",
        "import toml\n",
        "\n",
        "# 設定ファイルのディレクトリ確保\n",
        "os.makedirs('.streamlit', exist_ok=True)\n",
        "\n",
        "# 環境変数から取得したトークンを設定ファイルに書き込む\n",
        "secrets = {\n",
        "    \"huggingface\": {\n",
        "        \"token\": os.environ.get(\"HUGGINGFACE_TOKEN\", \"\")\n",
        "    }\n",
        "}\n",
        "\n",
        "# 設定ファイルを書き込む\n",
        "with open('.streamlit/secrets.toml', 'w') as f:\n",
        "    toml.dump(secrets, f)"
      ]
    },
    {
      "cell_type": "code",
      "execution_count": null,
      "metadata": {
        "id": "TBQyTTWTELSP"
      },
      "outputs": [
        {
          "name": "stdout",
          "output_type": "stream",
          "text": [
            "公開URL: https://f635-133-31-219-69.ngrok-free.app\n",
            "^C\n"
          ]
        }
      ],
      "source": [
        "from pyngrok import ngrok\n",
        "\n",
        "public_url = ngrok.connect(8501).public_url\n",
        "print(f\"公開URL: {public_url}\")\n",
        "!streamlit run app.py # notebook上では上手くいきません。\n",
        "# 以下のコードで実行してほしいです。(Ubuntu22.04)\n",
        "\n",
        "# (lecture-day1) yuta@CUxA:/mnt/c/Users/yutai/Downloads/study/lecture-ai-engineering/day1$ cd 02_streamlit_app\n",
        "\n",
        "# (lecture-day1) yuta@CUxA:/mnt/c/Users/yutai/Downloads/study/lecture-ai-engineering/day1/01_streamlit_UI$ streamlit run app.py"
      ]
    },
    {
      "cell_type": "markdown",
      "metadata": {},
      "source": [
        "- **`app.py`**: アプリケーションのエントリーポイント。チャット機能、履歴閲覧、サンプルデータ管理のUIを提供します。\n",
        "- **`ui.py`**: チャットページや履歴閲覧ページなど、アプリケーションのUIロジックを管理します。\n",
        "- **`llm.py`**: LLMモデルのロードとテキスト生成を行うモジュール。\n",
        "- **`database.py`**: SQLiteデータベースを使用してチャット履歴やフィードバックを保存・管理します。\n",
        "- **`metrics.py`**: BLEUスコアやコサイン類似度など、回答の評価指標を計算するモジュール。\n",
        "- **`data.py`**: サンプルデータの作成やデータベースの初期化を行うモジュール。\n",
        "- **`config.py`**: アプリケーションの設定（モデル名やデータベースファイル名）を管理します。\n",
        "- **`requirements.txt`**: このアプリケーションを実行するために必要なPythonパッケージ。"
      ]
    },
    {
      "cell_type": "code",
      "execution_count": 21,
      "metadata": {
        "id": "WFJC2TmZELSP"
      },
      "outputs": [],
      "source": [
        "from pyngrok import ngrok\n",
        "ngrok.kill()"
      ]
    },
    {
      "cell_type": "code",
      "execution_count": null,
      "metadata": {},
      "outputs": [],
      "source": []
    },
    {
      "cell_type": "code",
      "execution_count": 31,
      "metadata": {
        "id": "4ejjDLxr3kfC"
      },
      "outputs": [
        {
          "name": "stdout",
          "output_type": "stream",
          "text": [
            "C:\\Users\\yutai\\Downloads\\study\\lecture-ai-engineering\\day1\\03_FastAPI\n"
          ]
        }
      ],
      "source": [
        "%cd C:\\Users\\yutai\\Downloads\\study\\lecture-ai-engineering/day1/03_FastAPI"
      ]
    },
    {
      "cell_type": "code",
      "execution_count": 24,
      "metadata": {
        "id": "9uv6glCz5a7Z"
      },
      "outputs": [],
      "source": [
        "%%capture\n",
        "!pip install -r requirements.txt"
      ]
    },
    {
      "cell_type": "markdown",
      "metadata": {
        "id": "JfrmE2VmELSQ"
      },
      "source": [
        "ngrokとhuggigfaceのトークンを使用して、認証を行います。"
      ]
    },
    {
      "cell_type": "code",
      "execution_count": 32,
      "metadata": {
        "id": "meQ4SwISn3IQ"
      },
      "outputs": [
        {
          "name": "stderr",
          "output_type": "stream",
          "text": [
            "\n",
            "A module that was compiled using NumPy 1.x cannot be run in\n",
            "NumPy 2.2.4 as it may crash. To support both 1.x and 2.x\n",
            "versions of NumPy, modules must be compiled with NumPy 2.0.\n",
            "Some module may need to rebuild instead e.g. with 'pybind11>=2.12'.\n",
            "\n",
            "If you are a user of the module, the easiest solution will be to\n",
            "downgrade to 'numpy<2' or try to upgrade the affected module.\n",
            "We expect that some modules will need time to support NumPy 2.\n",
            "\n",
            "Traceback (most recent call last):  File \"C:\\Users\\yutai\\Downloads\\study\\lecture-ai-engineering\\day1\\03_FastAPI\\app.py\", line 3, in <module>\n",
            "    from transformers import pipeline\n",
            "  File \"c:\\Users\\yutai\\anaconda3\\Lib\\site-packages\\transformers\\utils\\import_utils.py\", line 1955, in __getattr__\n",
            "    module = self._get_module(self._class_to_module[name])\n",
            "  File \"c:\\Users\\yutai\\anaconda3\\Lib\\site-packages\\transformers\\utils\\import_utils.py\", line 1967, in _get_module\n",
            "    return importlib.import_module(\".\" + module_name, self.__name__)\n",
            "  File \"c:\\Users\\yutai\\anaconda3\\Lib\\importlib\\__init__.py\", line 126, in import_module\n",
            "    return _bootstrap._gcd_import(name[level:], package, level)\n",
            "  File \"c:\\Users\\yutai\\anaconda3\\Lib\\site-packages\\transformers\\pipelines\\__init__.py\", line 26, in <module>\n",
            "    from ..image_processing_utils import BaseImageProcessor\n",
            "  File \"c:\\Users\\yutai\\anaconda3\\Lib\\site-packages\\transformers\\image_processing_utils.py\", line 22, in <module>\n",
            "    from .image_transforms import center_crop, normalize, rescale\n",
            "  File \"c:\\Users\\yutai\\anaconda3\\Lib\\site-packages\\transformers\\image_transforms.py\", line 21, in <module>\n",
            "    from .image_utils import (\n",
            "  File \"c:\\Users\\yutai\\anaconda3\\Lib\\site-packages\\transformers\\image_utils.py\", line 64, in <module>\n",
            "    from torchvision import io as torchvision_io\n",
            "  File \"c:\\Users\\yutai\\anaconda3\\Lib\\site-packages\\torchvision\\__init__.py\", line 6, in <module>\n",
            "    from torchvision import datasets, io, models, ops, transforms, utils\n",
            "  File \"c:\\Users\\yutai\\anaconda3\\Lib\\site-packages\\torchvision\\models\\__init__.py\", line 17, in <module>\n",
            "    from . import detection, optical_flow, quantization, segmentation, video\n",
            "  File \"c:\\Users\\yutai\\anaconda3\\Lib\\site-packages\\torchvision\\models\\detection\\__init__.py\", line 1, in <module>\n",
            "    from .faster_rcnn import *\n",
            "  File \"c:\\Users\\yutai\\anaconda3\\Lib\\site-packages\\torchvision\\models\\detection\\faster_rcnn.py\", line 16, in <module>\n",
            "    from .anchor_utils import AnchorGenerator\n",
            "  File \"c:\\Users\\yutai\\anaconda3\\Lib\\site-packages\\torchvision\\models\\detection\\anchor_utils.py\", line 10, in <module>\n",
            "    class AnchorGenerator(nn.Module):\n",
            "  File \"c:\\Users\\yutai\\anaconda3\\Lib\\site-packages\\torchvision\\models\\detection\\anchor_utils.py\", line 63, in AnchorGenerator\n",
            "    device: torch.device = torch.device(\"cpu\"),\n",
            "c:\\Users\\yutai\\anaconda3\\Lib\\site-packages\\torchvision\\models\\detection\\anchor_utils.py:63: UserWarning: Failed to initialize NumPy: _ARRAY_API not found (Triggered internally at ..\\torch\\csrc\\utils\\tensor_numpy.cpp:84.)\n",
            "  device: torch.device = torch.device(\"cpu\"),\n",
            "\n",
            "A module that was compiled using NumPy 1.x cannot be run in\n",
            "NumPy 2.2.4 as it may crash. To support both 1.x and 2.x\n",
            "versions of NumPy, modules must be compiled with NumPy 2.0.\n",
            "Some module may need to rebuild instead e.g. with 'pybind11>=2.12'.\n",
            "\n",
            "If you are a user of the module, the easiest solution will be to\n",
            "downgrade to 'numpy<2' or try to upgrade the affected module.\n",
            "We expect that some modules will need time to support NumPy 2.\n",
            "\n",
            "Traceback (most recent call last):  File \"C:\\Users\\yutai\\Downloads\\study\\lecture-ai-engineering\\day1\\03_FastAPI\\app.py\", line 3, in <module>\n",
            "    from transformers import pipeline\n",
            "  File \"c:\\Users\\yutai\\anaconda3\\Lib\\site-packages\\transformers\\utils\\import_utils.py\", line 1955, in __getattr__\n",
            "    module = self._get_module(self._class_to_module[name])\n",
            "  File \"c:\\Users\\yutai\\anaconda3\\Lib\\site-packages\\transformers\\utils\\import_utils.py\", line 1967, in _get_module\n",
            "    return importlib.import_module(\".\" + module_name, self.__name__)\n",
            "  File \"c:\\Users\\yutai\\anaconda3\\Lib\\importlib\\__init__.py\", line 126, in import_module\n",
            "    return _bootstrap._gcd_import(name[level:], package, level)\n",
            "  File \"c:\\Users\\yutai\\anaconda3\\Lib\\site-packages\\transformers\\pipelines\\__init__.py\", line 28, in <module>\n",
            "    from ..models.auto.feature_extraction_auto import FEATURE_EXTRACTOR_MAPPING, AutoFeatureExtractor\n",
            "  File \"c:\\Users\\yutai\\anaconda3\\Lib\\site-packages\\transformers\\models\\auto\\feature_extraction_auto.py\", line 29, in <module>\n",
            "    from .auto_factory import _LazyAutoMapping\n",
            "  File \"c:\\Users\\yutai\\anaconda3\\Lib\\site-packages\\transformers\\models\\auto\\auto_factory.py\", line 40, in <module>\n",
            "    from ...generation import GenerationMixin\n",
            "  File \"c:\\Users\\yutai\\anaconda3\\Lib\\site-packages\\transformers\\utils\\import_utils.py\", line 1955, in __getattr__\n",
            "    module = self._get_module(self._class_to_module[name])\n",
            "  File \"c:\\Users\\yutai\\anaconda3\\Lib\\site-packages\\transformers\\utils\\import_utils.py\", line 1967, in _get_module\n",
            "    return importlib.import_module(\".\" + module_name, self.__name__)\n",
            "  File \"c:\\Users\\yutai\\anaconda3\\Lib\\importlib\\__init__.py\", line 126, in import_module\n",
            "    return _bootstrap._gcd_import(name[level:], package, level)\n",
            "  File \"c:\\Users\\yutai\\anaconda3\\Lib\\site-packages\\transformers\\generation\\utils.py\", line 30, in <module>\n",
            "    from transformers.generation.candidate_generator import AssistantVocabTranslatorCache\n",
            "  File \"c:\\Users\\yutai\\anaconda3\\Lib\\site-packages\\transformers\\generation\\candidate_generator.py\", line 27, in <module>\n",
            "    from sklearn.metrics import roc_curve\n",
            "  File \"c:\\Users\\yutai\\anaconda3\\Lib\\site-packages\\sklearn\\__init__.py\", line 84, in <module>\n",
            "    from .base import clone\n",
            "  File \"c:\\Users\\yutai\\anaconda3\\Lib\\site-packages\\sklearn\\base.py\", line 19, in <module>\n",
            "    from .utils._estimator_html_repr import _HTMLDocumentationLinkMixin, estimator_html_repr\n",
            "  File \"c:\\Users\\yutai\\anaconda3\\Lib\\site-packages\\sklearn\\utils\\__init__.py\", line 11, in <module>\n",
            "    from ._chunking import gen_batches, gen_even_slices\n",
            "  File \"c:\\Users\\yutai\\anaconda3\\Lib\\site-packages\\sklearn\\utils\\_chunking.py\", line 8, in <module>\n",
            "    from ._param_validation import Interval, validate_params\n",
            "  File \"c:\\Users\\yutai\\anaconda3\\Lib\\site-packages\\sklearn\\utils\\_param_validation.py\", line 11, in <module>\n",
            "    from scipy.sparse import csr_matrix, issparse\n",
            "  File \"c:\\Users\\yutai\\anaconda3\\Lib\\site-packages\\scipy\\sparse\\__init__.py\", line 295, in <module>\n",
            "    from ._csr import *\n",
            "  File \"c:\\Users\\yutai\\anaconda3\\Lib\\site-packages\\scipy\\sparse\\_csr.py\", line 11, in <module>\n",
            "    from ._sparsetools import (csr_tocsc, csr_tobsr, csr_count_blocks,\n",
            "AttributeError: _ARRAY_API not found\n",
            "Traceback (most recent call last):\n",
            "  File \"c:\\Users\\yutai\\anaconda3\\Lib\\site-packages\\transformers\\utils\\import_utils.py\", line 1967, in _get_module\n",
            "    return importlib.import_module(\".\" + module_name, self.__name__)\n",
            "           ^^^^^^^^^^^^^^^^^^^^^^^^^^^^^^^^^^^^^^^^^^^^^^^^^^^^^^^^^\n",
            "  File \"c:\\Users\\yutai\\anaconda3\\Lib\\importlib\\__init__.py\", line 126, in import_module\n",
            "    return _bootstrap._gcd_import(name[level:], package, level)\n",
            "           ^^^^^^^^^^^^^^^^^^^^^^^^^^^^^^^^^^^^^^^^^^^^^^^^^^^^\n",
            "  File \"<frozen importlib._bootstrap>\", line 1204, in _gcd_import\n",
            "  File \"<frozen importlib._bootstrap>\", line 1176, in _find_and_load\n",
            "  File \"<frozen importlib._bootstrap>\", line 1147, in _find_and_load_unlocked\n",
            "  File \"<frozen importlib._bootstrap>\", line 690, in _load_unlocked\n",
            "  File \"<frozen importlib._bootstrap_external>\", line 940, in exec_module\n",
            "  File \"<frozen importlib._bootstrap>\", line 241, in _call_with_frames_removed\n",
            "  File \"c:\\Users\\yutai\\anaconda3\\Lib\\site-packages\\transformers\\generation\\utils.py\", line 30, in <module>\n",
            "    from transformers.generation.candidate_generator import AssistantVocabTranslatorCache\n",
            "  File \"c:\\Users\\yutai\\anaconda3\\Lib\\site-packages\\transformers\\generation\\candidate_generator.py\", line 27, in <module>\n",
            "    from sklearn.metrics import roc_curve\n",
            "  File \"c:\\Users\\yutai\\anaconda3\\Lib\\site-packages\\sklearn\\__init__.py\", line 84, in <module>\n",
            "    from .base import clone\n",
            "  File \"c:\\Users\\yutai\\anaconda3\\Lib\\site-packages\\sklearn\\base.py\", line 19, in <module>\n",
            "    from .utils._estimator_html_repr import _HTMLDocumentationLinkMixin, estimator_html_repr\n",
            "  File \"c:\\Users\\yutai\\anaconda3\\Lib\\site-packages\\sklearn\\utils\\__init__.py\", line 11, in <module>\n",
            "    from ._chunking import gen_batches, gen_even_slices\n",
            "  File \"c:\\Users\\yutai\\anaconda3\\Lib\\site-packages\\sklearn\\utils\\_chunking.py\", line 8, in <module>\n",
            "    from ._param_validation import Interval, validate_params\n",
            "  File \"c:\\Users\\yutai\\anaconda3\\Lib\\site-packages\\sklearn\\utils\\_param_validation.py\", line 11, in <module>\n",
            "    from scipy.sparse import csr_matrix, issparse\n",
            "  File \"c:\\Users\\yutai\\anaconda3\\Lib\\site-packages\\scipy\\sparse\\__init__.py\", line 295, in <module>\n",
            "    from ._csr import *\n",
            "  File \"c:\\Users\\yutai\\anaconda3\\Lib\\site-packages\\scipy\\sparse\\_csr.py\", line 11, in <module>\n",
            "    from ._sparsetools import (csr_tocsc, csr_tobsr, csr_count_blocks,\n",
            "ImportError: numpy.core.multiarray failed to import\n",
            "\n",
            "The above exception was the direct cause of the following exception:\n",
            "\n",
            "Traceback (most recent call last):\n",
            "  File \"c:\\Users\\yutai\\anaconda3\\Lib\\site-packages\\transformers\\utils\\import_utils.py\", line 1967, in _get_module\n",
            "    return importlib.import_module(\".\" + module_name, self.__name__)\n",
            "           ^^^^^^^^^^^^^^^^^^^^^^^^^^^^^^^^^^^^^^^^^^^^^^^^^^^^^^^^^\n",
            "  File \"c:\\Users\\yutai\\anaconda3\\Lib\\importlib\\__init__.py\", line 126, in import_module\n",
            "    return _bootstrap._gcd_import(name[level:], package, level)\n",
            "           ^^^^^^^^^^^^^^^^^^^^^^^^^^^^^^^^^^^^^^^^^^^^^^^^^^^^\n",
            "  File \"<frozen importlib._bootstrap>\", line 1204, in _gcd_import\n",
            "  File \"<frozen importlib._bootstrap>\", line 1176, in _find_and_load\n",
            "  File \"<frozen importlib._bootstrap>\", line 1147, in _find_and_load_unlocked\n",
            "  File \"<frozen importlib._bootstrap>\", line 690, in _load_unlocked\n",
            "  File \"<frozen importlib._bootstrap_external>\", line 940, in exec_module\n",
            "  File \"<frozen importlib._bootstrap>\", line 241, in _call_with_frames_removed\n",
            "  File \"c:\\Users\\yutai\\anaconda3\\Lib\\site-packages\\transformers\\pipelines\\__init__.py\", line 28, in <module>\n",
            "    from ..models.auto.feature_extraction_auto import FEATURE_EXTRACTOR_MAPPING, AutoFeatureExtractor\n",
            "  File \"c:\\Users\\yutai\\anaconda3\\Lib\\site-packages\\transformers\\models\\auto\\feature_extraction_auto.py\", line 29, in <module>\n",
            "    from .auto_factory import _LazyAutoMapping\n",
            "  File \"c:\\Users\\yutai\\anaconda3\\Lib\\site-packages\\transformers\\models\\auto\\auto_factory.py\", line 40, in <module>\n",
            "    from ...generation import GenerationMixin\n",
            "  File \"<frozen importlib._bootstrap>\", line 1229, in _handle_fromlist\n",
            "  File \"c:\\Users\\yutai\\anaconda3\\Lib\\site-packages\\transformers\\utils\\import_utils.py\", line 1955, in __getattr__\n",
            "    module = self._get_module(self._class_to_module[name])\n",
            "             ^^^^^^^^^^^^^^^^^^^^^^^^^^^^^^^^^^^^^^^^^^^^^\n",
            "  File \"c:\\Users\\yutai\\anaconda3\\Lib\\site-packages\\transformers\\utils\\import_utils.py\", line 1969, in _get_module\n",
            "    raise RuntimeError(\n",
            "RuntimeError: Failed to import transformers.generation.utils because of the following error (look up to see its traceback):\n",
            "numpy.core.multiarray failed to import\n",
            "\n",
            "The above exception was the direct cause of the following exception:\n",
            "\n",
            "Traceback (most recent call last):\n",
            "  File \"C:\\Users\\yutai\\Downloads\\study\\lecture-ai-engineering\\day1\\03_FastAPI\\app.py\", line 3, in <module>\n",
            "    from transformers import pipeline\n",
            "  File \"<frozen importlib._bootstrap>\", line 1229, in _handle_fromlist\n",
            "  File \"c:\\Users\\yutai\\anaconda3\\Lib\\site-packages\\transformers\\utils\\import_utils.py\", line 1955, in __getattr__\n",
            "    module = self._get_module(self._class_to_module[name])\n",
            "             ^^^^^^^^^^^^^^^^^^^^^^^^^^^^^^^^^^^^^^^^^^^^^\n",
            "  File \"c:\\Users\\yutai\\anaconda3\\Lib\\site-packages\\transformers\\utils\\import_utils.py\", line 1969, in _get_module\n",
            "    raise RuntimeError(\n",
            "RuntimeError: Failed to import transformers.pipelines because of the following error (look up to see its traceback):\n",
            "Failed to import transformers.generation.utils because of the following error (look up to see its traceback):\n",
            "numpy.core.multiarray failed to import\n"
          ]
        }
      ],
      "source": [
        "!python app.py # 以下のコードをUbuntu22.04上で実行してください。\n",
        "# (lecture-day1) yuta@CUxA:/mnt/c/Users/yutai/Downloads/study/lecture-ai-engineering/day1/03_FastAPI$ python app.py"
      ]
    },
    {
      "cell_type": "code",
      "execution_count": null,
      "metadata": {
        "id": "RJymTZio-WPJ"
      },
      "outputs": [],
      "source": [
        "from pyngrok import ngrok\n",
        "ngrok.kill()"
      ]
    }
  ],
  "metadata": {
    "colab": {
      "provenance": []
    },
    "kernelspec": {
      "display_name": "base",
      "language": "python",
      "name": "python3"
    },
    "language_info": {
      "codemirror_mode": {
        "name": "ipython",
        "version": 3
      },
      "file_extension": ".py",
      "mimetype": "text/x-python",
      "name": "python",
      "nbconvert_exporter": "python",
      "pygments_lexer": "ipython3",
      "version": "3.11.10"
    }
  },
  "nbformat": 4,
  "nbformat_minor": 0
}
